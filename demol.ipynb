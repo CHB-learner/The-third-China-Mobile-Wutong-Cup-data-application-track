{
 "cells": [
  {
   "cell_type": "code",
   "execution_count": 1,
   "metadata": {},
   "outputs": [],
   "source": [
    "import pandas as pd\n",
    "import numpy as np"
   ]
  },
  {
   "cell_type": "code",
   "execution_count": 2,
   "metadata": {},
   "outputs": [],
   "source": [
    "toUser_train_data = pd.read_csv('./data/toUser_train_data.csv',index_col=False)\n",
    "toUser_train_data.head(5)\n",
    "\n",
    "if '用户标识' in toUser_train_data.columns.tolist():\n",
    "    toUser_train_data = toUser_train_data.drop('用户标识', axis=1)\n",
    "    toUser_train_data = toUser_train_data.drop('标签月', axis=1)"
   ]
  },
  {
   "cell_type": "code",
   "execution_count": 3,
   "metadata": {},
   "outputs": [],
   "source": [
    "def check_data(toUser_train_data):\n",
    "    for column in toUser_train_data.columns:\n",
    "        unique_values = toUser_train_data[column].unique()\n",
    "        print(column, \"的唯一值：\", unique_values)\n",
    "# check_data(toUser_train_data)"
   ]
  },
  {
   "cell_type": "markdown",
   "metadata": {},
   "source": [
    "# 删除逆天的值"
   ]
  },
  {
   "cell_type": "code",
   "execution_count": 4,
   "metadata": {},
   "outputs": [],
   "source": [
    "toUser_train_data['年龄'].replace(-1, np.nan, inplace=True)\n",
    "\n",
    "toUser_train_data['性别'].replace(9, np.nan, inplace=True)\n",
    "toUser_train_data['性别'].replace(-1, np.nan, inplace=True)"
   ]
  },
  {
   "cell_type": "markdown",
   "metadata": {},
   "source": [
    "# 编码"
   ]
  },
  {
   "cell_type": "code",
   "execution_count": 5,
   "metadata": {},
   "outputs": [],
   "source": [
    "def coding(df):\n",
    "    # 定义需要编码的列\n",
    "    columns_to_check = [\n",
    "        '当前终端品牌',\n",
    "        '上次终端品牌',\n",
    "        '上上次终端品牌',\n",
    "        '家庭交往圈终端品牌偏好',\n",
    "        '用户历史终端品牌偏好',\n",
    "        '集团交往圈终端品牌偏好',\n",
    "        '新5G终端品牌'\n",
    "    ]\n",
    "\n",
    "    # 定义类别和对应整数的字典\n",
    "    category_mapping = {\n",
    "        '华为': 1,\n",
    "        '苹果': 2,\n",
    "        'vivo': 3,\n",
    "        'OPPO': 4,\n",
    "        '荣耀': 5,\n",
    "        '小米': 6,\n",
    "        '三星': 7,\n",
    "        '魅族': 8,\n",
    "        '金立': 9,\n",
    "        '中兴': 10,\n",
    "        '一加': 11,\n",
    "        '中国移动': 12,\n",
    "            '其他': 0\n",
    "    }\n",
    "\n",
    "    # 循环处理每一列并进行编码\n",
    "    for column in columns_to_check:\n",
    "        if column in df.columns:\n",
    "            df[column] = df[column].replace(category_mapping)\n",
    "    return df"
   ]
  },
  {
   "cell_type": "code",
   "execution_count": 6,
   "metadata": {},
   "outputs": [],
   "source": [
    "toUser_train_data = coding(toUser_train_data)"
   ]
  },
  {
   "cell_type": "code",
   "execution_count": 7,
   "metadata": {},
   "outputs": [
    {
     "name": "stdout",
     "output_type": "stream",
     "text": [
      "0         11\n",
      "1          1\n",
      "2          4\n",
      "3          1\n",
      "4          4\n",
      "          ..\n",
      "557653     1\n",
      "557654     7\n",
      "557655     1\n",
      "557656     1\n",
      "557657     1\n",
      "Name: 新5G终端品牌, Length: 557658, dtype: int64\n"
     ]
    }
   ],
   "source": [
    "print(toUser_train_data['新5G终端品牌'])"
   ]
  },
  {
   "cell_type": "markdown",
   "metadata": {},
   "source": [
    "# 缺失值填充"
   ]
  },
  {
   "cell_type": "code",
   "execution_count": 8,
   "metadata": {},
   "outputs": [],
   "source": [
    "def not_null(df):\n",
    "    non_null_columns = df.columns[df.notnull().all()]\n",
    "    non_null_columns_list = non_null_columns.tolist()\n",
    "    \n",
    "    return non_null_columns_list\n"
   ]
  },
  {
   "cell_type": "code",
   "execution_count": 9,
   "metadata": {},
   "outputs": [],
   "source": [
    "not_null_A = not_null(toUser_train_data)"
   ]
  },
  {
   "cell_type": "code",
   "execution_count": 10,
   "metadata": {},
   "outputs": [
    {
     "name": "stdout",
     "output_type": "stream",
     "text": [
      "['年龄', '性别', '上月主套餐费用', '上月主套内包含流量', '上月ARPU', '上上月ARPU', '上上上月ARPU', '历史终端使用平均时长', '近三年换终端次数', '当前终端品牌', '当前终端价格', '当前终端价格档次', '当前终端是否双卡槽', '当前终端使用时长', '上次终端品牌', '上次终端价格', '上次终端价格档次', '上次终端是否双卡槽', '上次终端使用时长', '上上次终端品牌', '上上次终端价格', '上上次终端价格档次', '上上次终端是否双卡槽', '上上次终端使用时长', '上月DOU', '上上月DOU', '上上上月DOU', '上上月流量饱和度', '上上上月流量饱和度', '上月限速次数', '上月2', '近三月限速次数', '近三月2', '近3月月均上网天数', '家庭交往圈终端品牌偏好']\n"
     ]
    }
   ],
   "source": [
    "# 查看每列的缺失值个数，仅输出缺失值个数不为 0 的列\n",
    "missing_values = toUser_train_data.isna().sum()\n",
    "miss_ls = []\n",
    "\n",
    "for column, value in missing_values.items():\n",
    "    if value != 0:\n",
    "        miss_ls.append(column)\n",
    "#       print(f'{column}: {value}')\n",
    "\n",
    "print(miss_ls)"
   ]
  },
  {
   "cell_type": "markdown",
   "metadata": {},
   "source": [
    "# 定义填充的函数"
   ]
  },
  {
   "cell_type": "code",
   "execution_count": 11,
   "metadata": {},
   "outputs": [],
   "source": [
    "import pandas as pd\n",
    "from sklearn.tree import DecisionTreeClassifier, DecisionTreeRegressor\n",
    "\n",
    "\n",
    "def fill(ls, df):\n",
    "    for i in ls:\n",
    "        print('开始填充:',i)\n",
    "        \n",
    "        if df[i].nunique() < 15:\n",
    "            clf = DecisionTreeClassifier()\n",
    "        else:\n",
    "            clf = DecisionTreeRegressor()\n",
    "\n",
    "        train = df.dropna(subset=[i])\n",
    "        test = df[df[i].isnull()]\n",
    "\n",
    "        X_train = train[not_null_A]\n",
    "        y_train = train[i]\n",
    "        X_test = test[not_null_A]\n",
    "\n",
    "        clf.fit(X_train, y_train)\n",
    "\n",
    "        y_pred = clf.predict(X_test)\n",
    "        df.loc[test.index, i] = y_pred\n",
    "\n",
    "    if df.isna().sum().sum() == 0:\n",
    "        print('已填充完成所有缺失值')\n",
    "    else:\n",
    "        print('仍有缺失值未填充')\n",
    "\n",
    "    return df\n"
   ]
  },
  {
   "cell_type": "code",
   "execution_count": 12,
   "metadata": {},
   "outputs": [
    {
     "name": "stdout",
     "output_type": "stream",
     "text": [
      "开始填充: 年龄\n",
      "开始填充: 性别\n",
      "开始填充: 上月主套餐费用\n",
      "开始填充: 上月主套内包含流量\n",
      "开始填充: 上月ARPU\n",
      "开始填充: 上上月ARPU\n",
      "开始填充: 上上上月ARPU\n",
      "开始填充: 历史终端使用平均时长\n",
      "开始填充: 近三年换终端次数\n",
      "开始填充: 当前终端品牌\n",
      "开始填充: 当前终端价格\n",
      "开始填充: 当前终端价格档次\n",
      "开始填充: 当前终端是否双卡槽\n",
      "开始填充: 当前终端使用时长\n",
      "开始填充: 上次终端品牌\n",
      "开始填充: 上次终端价格\n",
      "开始填充: 上次终端价格档次\n",
      "开始填充: 上次终端是否双卡槽\n",
      "开始填充: 上次终端使用时长\n",
      "开始填充: 上上次终端品牌\n",
      "开始填充: 上上次终端价格\n",
      "开始填充: 上上次终端价格档次\n",
      "开始填充: 上上次终端是否双卡槽\n",
      "开始填充: 上上次终端使用时长\n",
      "开始填充: 上月DOU\n",
      "开始填充: 上上月DOU\n",
      "开始填充: 上上上月DOU\n",
      "开始填充: 上上月流量饱和度\n",
      "开始填充: 上上上月流量饱和度\n",
      "开始填充: 上月限速次数\n",
      "开始填充: 上月2\n",
      "开始填充: 近三月限速次数\n",
      "开始填充: 近三月2\n",
      "开始填充: 近3月月均上网天数\n",
      "开始填充: 家庭交往圈终端品牌偏好\n",
      "已填充完成所有缺失值\n"
     ]
    }
   ],
   "source": [
    "toUser_train_data = fill(miss_ls,toUser_train_data)"
   ]
  },
  {
   "cell_type": "code",
   "execution_count": null,
   "metadata": {},
   "outputs": [],
   "source": []
  },
  {
   "cell_type": "code",
   "execution_count": null,
   "metadata": {},
   "outputs": [],
   "source": []
  },
  {
   "cell_type": "code",
   "execution_count": null,
   "metadata": {},
   "outputs": [],
   "source": []
  },
  {
   "cell_type": "code",
   "execution_count": null,
   "metadata": {},
   "outputs": [],
   "source": []
  },
  {
   "cell_type": "code",
   "execution_count": 17,
   "metadata": {},
   "outputs": [],
   "source": [
    "# toUser_train_data.to_csv('./filled_data_A.csv',index=False)"
   ]
  },
  {
   "cell_type": "code",
   "execution_count": 18,
   "metadata": {},
   "outputs": [
    {
     "name": "stdout",
     "output_type": "stream",
     "text": [
      "\n"
     ]
    }
   ],
   "source": [
    "print()"
   ]
  },
  {
   "cell_type": "markdown",
   "metadata": {},
   "source": [
    "# 训练模型(以lightGBM为例)"
   ]
  },
  {
   "cell_type": "code",
   "execution_count": 19,
   "metadata": {},
   "outputs": [
    {
     "name": "stdout",
     "output_type": "stream",
     "text": [
      "(557658, 68)\n"
     ]
    }
   ],
   "source": [
    "import pandas as pd\n",
    "import numpy as np\n",
    "\n",
    "encoded_data = pd.read_csv('./filled_data_A.csv',index_col=False)\n",
    "\n",
    "print(encoded_data.shape)"
   ]
  },
  {
   "cell_type": "code",
   "execution_count": 20,
   "metadata": {},
   "outputs": [
    {
     "data": {
      "text/html": [
       "<style type='text/css'>\n",
       ".datatable table.frame { margin-bottom: 0; }\n",
       ".datatable table.frame thead { border-bottom: none; }\n",
       ".datatable table.frame tr.coltypes td {  color: #FFFFFF;  line-height: 6px;  padding: 0 0.5em;}\n",
       ".datatable .bool    { background: #DDDD99; }\n",
       ".datatable .object  { background: #565656; }\n",
       ".datatable .int     { background: #5D9E5D; }\n",
       ".datatable .float   { background: #4040CC; }\n",
       ".datatable .str     { background: #CC4040; }\n",
       ".datatable .row_index {  background: var(--jp-border-color3);  border-right: 1px solid var(--jp-border-color0);  color: var(--jp-ui-font-color3);  font-size: 9px;}\n",
       ".datatable .frame tr.coltypes .row_index {  background: var(--jp-border-color0);}\n",
       ".datatable th:nth-child(2) { padding-left: 12px; }\n",
       ".datatable .hellipsis {  color: var(--jp-cell-editor-border-color);}\n",
       ".datatable .vellipsis {  background: var(--jp-layout-color0);  color: var(--jp-cell-editor-border-color);}\n",
       ".datatable .na {  color: var(--jp-cell-editor-border-color);  font-size: 80%;}\n",
       ".datatable .footer { font-size: 9px; }\n",
       ".datatable .frame_dimensions {  background: var(--jp-border-color3);  border-top: 1px solid var(--jp-border-color0);  color: var(--jp-ui-font-color3);  display: inline-block;  opacity: 0.6;  padding: 1px 10px 1px 5px;}\n",
       "</style>\n"
      ],
      "text/plain": [
       "<IPython.core.display.HTML object>"
      ]
     },
     "metadata": {},
     "output_type": "display_data"
    },
    {
     "name": "stdout",
     "output_type": "stream",
     "text": [
      "(446126, 67)\n"
     ]
    }
   ],
   "source": [
    "# 早停版\n",
    "import lightgbm as lgb\n",
    "from sklearn.model_selection import train_test_split\n",
    "\n",
    "# 假设你已经有了经过编码的特征和目标变量\n",
    "X_encoded = encoded_data.drop('新5G终端品牌', axis=1).values\n",
    "y = encoded_data['新5G终端品牌'].values.astype(int)  # 将目标变量转换为整型\n",
    "\n",
    "# 划分训练集和测试集\n",
    "X_train, X_test, y_train, y_test = train_test_split(X_encoded, y, test_size=0.2, random_state=42)\n",
    "\n",
    "print(X_train.shape)"
   ]
  },
  {
   "cell_type": "code",
   "execution_count": 21,
   "metadata": {},
   "outputs": [
    {
     "name": "stdout",
     "output_type": "stream",
     "text": [
      "(111532, 67)\n"
     ]
    },
    {
     "name": "stderr",
     "output_type": "stream",
     "text": [
      "/usr/local/lib/python3.7/dist-packages/lightgbm/engine.py:181: UserWarning: 'early_stopping_rounds' argument is deprecated and will be removed in a future release of LightGBM. Pass 'early_stopping()' callback via 'callbacks' argument instead.\n",
      "  _log_warning(\"'early_stopping_rounds' argument is deprecated and will be removed in a future release of LightGBM. \"\n",
      "/usr/local/lib/python3.7/dist-packages/lightgbm/engine.py:239: UserWarning: 'verbose_eval' argument is deprecated and will be removed in a future release of LightGBM. Pass 'log_evaluation()' callback via 'callbacks' argument instead.\n",
      "  _log_warning(\"'verbose_eval' argument is deprecated and will be removed in a future release of LightGBM. \"\n"
     ]
    },
    {
     "name": "stdout",
     "output_type": "stream",
     "text": [
      "[1]\ttraining's multi_logloss: 1.29484\tvalid_1's multi_logloss: 1.32061\n",
      "Training until validation scores don't improve for 3 rounds\n",
      "[2]\ttraining's multi_logloss: 1.31452\tvalid_1's multi_logloss: 1.35816\n",
      "[3]\ttraining's multi_logloss: 1.23306\tvalid_1's multi_logloss: 1.28276\n",
      "[4]\ttraining's multi_logloss: 1.20564\tvalid_1's multi_logloss: 1.26145\n",
      "[5]\ttraining's multi_logloss: 1.17855\tvalid_1's multi_logloss: 1.23406\n",
      "[6]\ttraining's multi_logloss: 1.16382\tvalid_1's multi_logloss: 1.22084\n",
      "[7]\ttraining's multi_logloss: 1.1367\tvalid_1's multi_logloss: 1.20875\n",
      "[8]\ttraining's multi_logloss: 1.15619\tvalid_1's multi_logloss: 1.23288\n",
      "[9]\ttraining's multi_logloss: 1.11608\tvalid_1's multi_logloss: 1.20576\n",
      "[10]\ttraining's multi_logloss: 1.11908\tvalid_1's multi_logloss: 1.21649\n",
      "[11]\ttraining's multi_logloss: 1.11528\tvalid_1's multi_logloss: 1.21771\n",
      "[12]\ttraining's multi_logloss: 1.12749\tvalid_1's multi_logloss: 1.2408\n",
      "Early stopping, best iteration is:\n",
      "[9]\ttraining's multi_logloss: 1.11608\tvalid_1's multi_logloss: 1.20576\n"
     ]
    },
    {
     "data": {
      "text/plain": [
       "<lightgbm.basic.Booster at 0x7f7d401c6cd0>"
      ]
     },
     "execution_count": 21,
     "metadata": {},
     "output_type": "execute_result"
    }
   ],
   "source": [
    "# 创建 LightGBM 数据集\n",
    "lgb_train = lgb.Dataset(X_train, y_train)\n",
    "lgb_test = lgb.Dataset(X_test, y_test, reference=lgb_train)\n",
    "\n",
    "# 设置模型参数\n",
    "params = {\n",
    "    'boosting_type': 'gbdt',\n",
    "    'objective': 'multiclass',\n",
    "    'num_class': 13,  # 设置类别的数量\n",
    "    'num_leaves': 100,\n",
    "    'learning_rate': 0.2,\n",
    "    'feature_fraction': 0.8,\n",
    "    'bagging_fraction': 0.8,\n",
    "    'bagging_freq': 5,\n",
    "    'max_depth': 10,\n",
    "    'verbose': -1\n",
    "}\n",
    "\n",
    "print(X_test.shape)\n",
    "\n",
    "# 训练模型\n",
    "num_iterations = 20\n",
    "\n",
    "model = lgb.train(params, lgb_train, num_boost_round=num_iterations, valid_sets=[lgb_train, lgb_test],\n",
    "                  early_stopping_rounds=3, verbose_eval=True)\n",
    "\n",
    "# 获取最佳迭代次数\n",
    "best_iteration = model.best_iteration\n",
    "\n",
    "# 预测\n",
    "y_pred = model.predict(X_test, num_iteration=best_iteration)\n",
    "\n",
    "# 保存最佳模型\n",
    "model.save_model(\"lightgbm_model.txt\", num_iteration=best_iteration)"
   ]
  },
  {
   "cell_type": "code",
   "execution_count": 22,
   "metadata": {},
   "outputs": [
    {
     "name": "stdout",
     "output_type": "stream",
     "text": [
      "训练完成!\n"
     ]
    }
   ],
   "source": [
    "print(\"训练完成!\")"
   ]
  },
  {
   "cell_type": "code",
   "execution_count": 30,
   "metadata": {},
   "outputs": [],
   "source": []
  },
  {
   "cell_type": "code",
   "execution_count": 31,
   "metadata": {},
   "outputs": [],
   "source": []
  },
  {
   "cell_type": "code",
   "execution_count": null,
   "metadata": {},
   "outputs": [],
   "source": []
  },
  {
   "cell_type": "code",
   "execution_count": null,
   "metadata": {},
   "outputs": [],
   "source": []
  },
  {
   "cell_type": "markdown",
   "metadata": {},
   "source": [
    "## 评估模型"
   ]
  },
  {
   "cell_type": "code",
   "execution_count": 23,
   "metadata": {},
   "outputs": [
    {
     "name": "stdout",
     "output_type": "stream",
     "text": [
      "Accuracy: 0.6117616468816125\n",
      "Classification Report:\n",
      "               precision    recall  f1-score   support\n",
      "\n",
      "           0       0.03      0.05      0.04       257\n",
      "           1       0.64      0.87      0.74     59349\n",
      "           3       0.52      0.38      0.44     15633\n",
      "           4       0.53      0.31      0.39     12253\n",
      "           5       0.56      0.20      0.30     15395\n",
      "           6       0.67      0.43      0.52      6366\n",
      "           7       0.51      0.46      0.48       901\n",
      "           8       0.36      0.45      0.40       341\n",
      "          10       0.07      0.21      0.10        63\n",
      "          11       0.41      0.35      0.37       958\n",
      "          12       0.00      0.00      0.00        16\n",
      "\n",
      "    accuracy                           0.61    111532\n",
      "   macro avg       0.39      0.34      0.34    111532\n",
      "weighted avg       0.60      0.61      0.58    111532\n",
      "\n"
     ]
    }
   ],
   "source": [
    "import lightgbm as lgb\n",
    "from sklearn.metrics import accuracy_score, classification_report\n",
    "\n",
    "# 加载已保存的模型\n",
    "model = lgb.Booster(model_file='lightgbm_model.txt')\n",
    "\n",
    "# 使用测试集进行预测\n",
    "y_pred = model.predict(X_test)\n",
    "y_pred_labels = y_pred.argmax(axis=1)\n",
    "\n",
    "# 计算准确率\n",
    "accuracy = accuracy_score(y_test, y_pred_labels)\n",
    "print('Accuracy:', accuracy)\n",
    "\n",
    "# 生成分类报告\n",
    "report = classification_report(y_test, y_pred_labels)\n",
    "print('Classification Report:\\n', report)\n"
   ]
  },
  {
   "cell_type": "code",
   "execution_count": null,
   "metadata": {},
   "outputs": [],
   "source": []
  },
  {
   "cell_type": "code",
   "execution_count": null,
   "metadata": {},
   "outputs": [],
   "source": []
  },
  {
   "cell_type": "code",
   "execution_count": null,
   "metadata": {},
   "outputs": [],
   "source": []
  },
  {
   "cell_type": "code",
   "execution_count": null,
   "metadata": {},
   "outputs": [],
   "source": []
  },
  {
   "cell_type": "code",
   "execution_count": null,
   "metadata": {},
   "outputs": [],
   "source": []
  },
  {
   "cell_type": "code",
   "execution_count": null,
   "metadata": {},
   "outputs": [],
   "source": []
  },
  {
   "cell_type": "code",
   "execution_count": null,
   "metadata": {},
   "outputs": [],
   "source": []
  },
  {
   "cell_type": "code",
   "execution_count": null,
   "metadata": {},
   "outputs": [],
   "source": []
  },
  {
   "cell_type": "code",
   "execution_count": null,
   "metadata": {},
   "outputs": [],
   "source": []
  },
  {
   "cell_type": "code",
   "execution_count": null,
   "metadata": {},
   "outputs": [],
   "source": []
  },
  {
   "cell_type": "code",
   "execution_count": null,
   "metadata": {},
   "outputs": [],
   "source": []
  },
  {
   "cell_type": "markdown",
   "metadata": {},
   "source": [
    "# 预测b数据"
   ]
  },
  {
   "cell_type": "code",
   "execution_count": 24,
   "metadata": {},
   "outputs": [],
   "source": [
    "import pandas as pd\n",
    "import numpy as np"
   ]
  },
  {
   "cell_type": "code",
   "execution_count": 25,
   "metadata": {},
   "outputs": [],
   "source": [
    "test_B = pd.read_csv(\"./data/test_B.csv\",index_col=False)\n",
    "ID = test_B['用户标识'].tolist()\n",
    "\n",
    "if '标签月' in test_B.columns.tolist() or '用户标识' in test_B.columns.tolist():\n",
    "    test_B = test_B.drop('标签月', axis=1)\n",
    "    test_B = test_B.drop('用户标识', axis=1)"
   ]
  },
  {
   "cell_type": "markdown",
   "metadata": {},
   "source": [
    "# 编码"
   ]
  },
  {
   "cell_type": "code",
   "execution_count": 26,
   "metadata": {},
   "outputs": [
    {
     "data": {
      "text/html": [
       "<div>\n",
       "<style scoped>\n",
       "    .dataframe tbody tr th:only-of-type {\n",
       "        vertical-align: middle;\n",
       "    }\n",
       "\n",
       "    .dataframe tbody tr th {\n",
       "        vertical-align: top;\n",
       "    }\n",
       "\n",
       "    .dataframe thead th {\n",
       "        text-align: right;\n",
       "    }\n",
       "</style>\n",
       "<table border=\"1\" class=\"dataframe\">\n",
       "  <thead>\n",
       "    <tr style=\"text-align: right;\">\n",
       "      <th></th>\n",
       "      <th>年龄</th>\n",
       "      <th>用户状态</th>\n",
       "      <th>性别</th>\n",
       "      <th>网龄</th>\n",
       "      <th>客户类型</th>\n",
       "      <th>城县农标志</th>\n",
       "      <th>是否4G客户</th>\n",
       "      <th>用户星级</th>\n",
       "      <th>同身份证下的号码数</th>\n",
       "      <th>是否全球通客户</th>\n",
       "      <th>...</th>\n",
       "      <th>上月视频类流量</th>\n",
       "      <th>上月短视频类流量</th>\n",
       "      <th>上月游戏类流量占比</th>\n",
       "      <th>上月音乐类流量占比</th>\n",
       "      <th>上月视频类流量占比</th>\n",
       "      <th>上月短视频类流量占比</th>\n",
       "      <th>是否订购5G套餐</th>\n",
       "      <th>用户常驻地是否在5G基站3公里范围</th>\n",
       "      <th>是否资费敏感客户</th>\n",
       "      <th>新5G终端档次</th>\n",
       "    </tr>\n",
       "  </thead>\n",
       "  <tbody>\n",
       "    <tr>\n",
       "      <th>0</th>\n",
       "      <td>26</td>\n",
       "      <td>1</td>\n",
       "      <td>0</td>\n",
       "      <td>3</td>\n",
       "      <td>1</td>\n",
       "      <td>0</td>\n",
       "      <td>1</td>\n",
       "      <td>0</td>\n",
       "      <td>1</td>\n",
       "      <td>1</td>\n",
       "      <td>...</td>\n",
       "      <td>0.0000</td>\n",
       "      <td>0.0000</td>\n",
       "      <td>0.0000</td>\n",
       "      <td>0.0000</td>\n",
       "      <td>0.0000</td>\n",
       "      <td>0.0000</td>\n",
       "      <td>0</td>\n",
       "      <td>0</td>\n",
       "      <td>0</td>\n",
       "      <td>3</td>\n",
       "    </tr>\n",
       "    <tr>\n",
       "      <th>1</th>\n",
       "      <td>43</td>\n",
       "      <td>1</td>\n",
       "      <td>0</td>\n",
       "      <td>92</td>\n",
       "      <td>1</td>\n",
       "      <td>2</td>\n",
       "      <td>1</td>\n",
       "      <td>3</td>\n",
       "      <td>3</td>\n",
       "      <td>1</td>\n",
       "      <td>...</td>\n",
       "      <td>5.1188</td>\n",
       "      <td>6.4713</td>\n",
       "      <td>0.0000</td>\n",
       "      <td>0.0000</td>\n",
       "      <td>0.0004</td>\n",
       "      <td>0.0005</td>\n",
       "      <td>1</td>\n",
       "      <td>1</td>\n",
       "      <td>0</td>\n",
       "      <td>2</td>\n",
       "    </tr>\n",
       "    <tr>\n",
       "      <th>2</th>\n",
       "      <td>31</td>\n",
       "      <td>1</td>\n",
       "      <td>1</td>\n",
       "      <td>114</td>\n",
       "      <td>1</td>\n",
       "      <td>2</td>\n",
       "      <td>1</td>\n",
       "      <td>2</td>\n",
       "      <td>1</td>\n",
       "      <td>1</td>\n",
       "      <td>...</td>\n",
       "      <td>243.0376</td>\n",
       "      <td>1.7531</td>\n",
       "      <td>0.0001</td>\n",
       "      <td>0.0004</td>\n",
       "      <td>0.0307</td>\n",
       "      <td>0.0002</td>\n",
       "      <td>0</td>\n",
       "      <td>1</td>\n",
       "      <td>0</td>\n",
       "      <td>4</td>\n",
       "    </tr>\n",
       "    <tr>\n",
       "      <th>3</th>\n",
       "      <td>47</td>\n",
       "      <td>1</td>\n",
       "      <td>1</td>\n",
       "      <td>208</td>\n",
       "      <td>1</td>\n",
       "      <td>2</td>\n",
       "      <td>0</td>\n",
       "      <td>1</td>\n",
       "      <td>3</td>\n",
       "      <td>1</td>\n",
       "      <td>...</td>\n",
       "      <td>0.0000</td>\n",
       "      <td>0.0000</td>\n",
       "      <td>0.0000</td>\n",
       "      <td>0.0000</td>\n",
       "      <td>0.0000</td>\n",
       "      <td>0.0000</td>\n",
       "      <td>0</td>\n",
       "      <td>1</td>\n",
       "      <td>0</td>\n",
       "      <td>5</td>\n",
       "    </tr>\n",
       "    <tr>\n",
       "      <th>4</th>\n",
       "      <td>54</td>\n",
       "      <td>1</td>\n",
       "      <td>0</td>\n",
       "      <td>137</td>\n",
       "      <td>1</td>\n",
       "      <td>2</td>\n",
       "      <td>1</td>\n",
       "      <td>5</td>\n",
       "      <td>1</td>\n",
       "      <td>1</td>\n",
       "      <td>...</td>\n",
       "      <td>4612.1906</td>\n",
       "      <td>39.9408</td>\n",
       "      <td>0.0034</td>\n",
       "      <td>0.0000</td>\n",
       "      <td>0.3723</td>\n",
       "      <td>0.0032</td>\n",
       "      <td>1</td>\n",
       "      <td>0</td>\n",
       "      <td>0</td>\n",
       "      <td>2</td>\n",
       "    </tr>\n",
       "  </tbody>\n",
       "</table>\n",
       "<p>5 rows × 67 columns</p>\n",
       "</div>"
      ],
      "text/plain": [
       "   年龄  用户状态  性别   网龄  客户类型  城县农标志  是否4G客户  用户星级  同身份证下的号码数  是否全球通客户  ...  \\\n",
       "0  26     1   0    3     1      0       1     0          1        1  ...   \n",
       "1  43     1   0   92     1      2       1     3          3        1  ...   \n",
       "2  31     1   1  114     1      2       1     2          1        1  ...   \n",
       "3  47     1   1  208     1      2       0     1          3        1  ...   \n",
       "4  54     1   0  137     1      2       1     5          1        1  ...   \n",
       "\n",
       "     上月视频类流量  上月短视频类流量  上月游戏类流量占比  上月音乐类流量占比  上月视频类流量占比  上月短视频类流量占比  是否订购5G套餐  \\\n",
       "0     0.0000    0.0000     0.0000     0.0000     0.0000      0.0000         0   \n",
       "1     5.1188    6.4713     0.0000     0.0000     0.0004      0.0005         1   \n",
       "2   243.0376    1.7531     0.0001     0.0004     0.0307      0.0002         0   \n",
       "3     0.0000    0.0000     0.0000     0.0000     0.0000      0.0000         0   \n",
       "4  4612.1906   39.9408     0.0034     0.0000     0.3723      0.0032         1   \n",
       "\n",
       "   用户常驻地是否在5G基站3公里范围  是否资费敏感客户  新5G终端档次  \n",
       "0                  0         0        3  \n",
       "1                  1         0        2  \n",
       "2                  1         0        4  \n",
       "3                  1         0        5  \n",
       "4                  0         0        2  \n",
       "\n",
       "[5 rows x 67 columns]"
      ]
     },
     "execution_count": 26,
     "metadata": {},
     "output_type": "execute_result"
    }
   ],
   "source": [
    "test_B = coding(test_B)\n",
    "test_B.head(5)"
   ]
  },
  {
   "cell_type": "markdown",
   "metadata": {},
   "source": [
    "# 缺失值填空"
   ]
  },
  {
   "cell_type": "code",
   "execution_count": 27,
   "metadata": {},
   "outputs": [],
   "source": [
    "not_null_B = not_null(test_B)"
   ]
  },
  {
   "cell_type": "code",
   "execution_count": 28,
   "metadata": {},
   "outputs": [
    {
     "name": "stdout",
     "output_type": "stream",
     "text": [
      "['上月主套餐费用', '上月主套内包含流量', '上月ARPU', '上上月ARPU', '上上上月ARPU', '历史终端使用平均时长', '近三年换终端次数', '当前终端品牌', '当前终端价格', '当前终端价格档次', '当前终端是否双卡槽', '当前终端使用时长', '上次终端品牌', '上次终端价格', '上次终端价格档次', '上次终端是否双卡槽', '上次终端使用时长', '上上次终端品牌', '上上次终端价格', '上上次终端价格档次', '上上次终端是否双卡槽', '上上次终端使用时长', '上月DOU', '上上月DOU', '上上上月DOU', '上上月流量饱和度', '上上上月流量饱和度', '上月限速次数', '上月2', '近三月限速次数', '近三月2', '近3月月均上网天数', '家庭交往圈终端品牌偏好']\n"
     ]
    }
   ],
   "source": [
    "# 查看每列的缺失值个数，仅输出缺失值个数不为 0 的列\n",
    "missing_values = test_B.isna().sum()\n",
    "miss_ls = []\n",
    "\n",
    "for column, value in missing_values.items():\n",
    "    if value != 0:\n",
    "        miss_ls.append(column)\n",
    "#         print(f'{column}: {value}')\n",
    "\n",
    "print(miss_ls)"
   ]
  },
  {
   "cell_type": "code",
   "execution_count": 29,
   "metadata": {},
   "outputs": [],
   "source": [
    "import pandas as pd\n",
    "from sklearn.tree import DecisionTreeClassifier, DecisionTreeRegressor\n",
    "\n",
    "\n",
    "def fill_B(ls, df):\n",
    "    for i in ls:\n",
    "        print('开始填充:',i)\n",
    "        if df[i].nunique() < 15:\n",
    "            clf = DecisionTreeClassifier()\n",
    "        else:\n",
    "            clf = DecisionTreeRegressor()\n",
    "\n",
    "        train = df.dropna(subset=[i])\n",
    "        test = df[df[i].isnull()]\n",
    "\n",
    "        X_train = train[not_null_B]\n",
    "        y_train = train[i]\n",
    "        X_test = test[not_null_B]\n",
    "\n",
    "        clf.fit(X_train, y_train)\n",
    "\n",
    "        y_pred = clf.predict(X_test)\n",
    "        df.loc[test.index, i] = y_pred\n",
    "\n",
    "    if df.isna().sum().sum() == 0:\n",
    "        print('已填充完成所有缺失值')\n",
    "    else:\n",
    "        print('仍有缺失值未填充')\n",
    "\n",
    "    return df\n"
   ]
  },
  {
   "cell_type": "code",
   "execution_count": 30,
   "metadata": {},
   "outputs": [
    {
     "name": "stdout",
     "output_type": "stream",
     "text": [
      "开始填充: 上月主套餐费用\n",
      "开始填充: 上月主套内包含流量\n",
      "开始填充: 上月ARPU\n",
      "开始填充: 上上月ARPU\n",
      "开始填充: 上上上月ARPU\n",
      "开始填充: 历史终端使用平均时长\n",
      "开始填充: 近三年换终端次数\n",
      "开始填充: 当前终端品牌\n",
      "开始填充: 当前终端价格\n",
      "开始填充: 当前终端价格档次\n",
      "开始填充: 当前终端是否双卡槽\n",
      "开始填充: 当前终端使用时长\n",
      "开始填充: 上次终端品牌\n",
      "开始填充: 上次终端价格\n",
      "开始填充: 上次终端价格档次\n",
      "开始填充: 上次终端是否双卡槽\n",
      "开始填充: 上次终端使用时长\n",
      "开始填充: 上上次终端品牌\n",
      "开始填充: 上上次终端价格\n",
      "开始填充: 上上次终端价格档次\n",
      "开始填充: 上上次终端是否双卡槽\n",
      "开始填充: 上上次终端使用时长\n",
      "开始填充: 上月DOU\n",
      "开始填充: 上上月DOU\n",
      "开始填充: 上上上月DOU\n",
      "开始填充: 上上月流量饱和度\n",
      "开始填充: 上上上月流量饱和度\n",
      "开始填充: 上月限速次数\n",
      "开始填充: 上月2\n",
      "开始填充: 近三月限速次数\n",
      "开始填充: 近三月2\n",
      "开始填充: 近3月月均上网天数\n",
      "开始填充: 家庭交往圈终端品牌偏好\n",
      "已填充完成所有缺失值\n"
     ]
    }
   ],
   "source": [
    "test_B = fill_B(miss_ls,test_B)"
   ]
  },
  {
   "cell_type": "code",
   "execution_count": 32,
   "metadata": {},
   "outputs": [],
   "source": [
    "# test_B.to_csv('./filled_data_B.csv',index=False)\n",
    "# if encoded_data.isna().sum().sum() == 0:\n",
    "#     print('已填充完成所有缺失值')\n",
    "# else:\n",
    "#     print('仍有缺失值未填充')"
   ]
  },
  {
   "cell_type": "markdown",
   "metadata": {},
   "source": [
    "# 预测"
   ]
  },
  {
   "cell_type": "code",
   "execution_count": 33,
   "metadata": {},
   "outputs": [
    {
     "name": "stdout",
     "output_type": "stream",
     "text": [
      "(30981, 67)\n"
     ]
    }
   ],
   "source": [
    "test_B = pd.read_csv('./filled_data_B.csv',index_col=False)\n",
    "print(test_B.shape)"
   ]
  },
  {
   "cell_type": "code",
   "execution_count": 34,
   "metadata": {},
   "outputs": [
    {
     "data": {
      "text/plain": [
       "array([3, 3, 1, ..., 1, 1, 5])"
      ]
     },
     "execution_count": 34,
     "metadata": {},
     "output_type": "execute_result"
    }
   ],
   "source": [
    "import lightgbm as lgb\n",
    "import pandas as pd\n",
    "\n",
    "# 加载保存的模型\n",
    "model = lgb.Booster(model_file='lightgbm_model.txt')\n",
    "\n",
    "X_new_encoded = test_B.values\n",
    "\n",
    "# 进行预测\n",
    "y_new_pred = model.predict(X_new_encoded)\n",
    "\n",
    "predicted_classes = y_new_pred.argmax(axis=1)\n",
    "\n",
    "predicted_classes"
   ]
  },
  {
   "cell_type": "code",
   "execution_count": 35,
   "metadata": {},
   "outputs": [
    {
     "data": {
      "text/html": [
       "<div>\n",
       "<style scoped>\n",
       "    .dataframe tbody tr th:only-of-type {\n",
       "        vertical-align: middle;\n",
       "    }\n",
       "\n",
       "    .dataframe tbody tr th {\n",
       "        vertical-align: top;\n",
       "    }\n",
       "\n",
       "    .dataframe thead th {\n",
       "        text-align: right;\n",
       "    }\n",
       "</style>\n",
       "<table border=\"1\" class=\"dataframe\">\n",
       "  <thead>\n",
       "    <tr style=\"text-align: right;\">\n",
       "      <th></th>\n",
       "      <th>用户标识</th>\n",
       "      <th>新5G终端品牌</th>\n",
       "    </tr>\n",
       "  </thead>\n",
       "  <tbody>\n",
       "    <tr>\n",
       "      <th>0</th>\n",
       "      <td>4029657c43fb8daa04b5bd5c55f149bf</td>\n",
       "      <td>3</td>\n",
       "    </tr>\n",
       "    <tr>\n",
       "      <th>1</th>\n",
       "      <td>644b29afecb6f48a9d630c3195dedff8</td>\n",
       "      <td>3</td>\n",
       "    </tr>\n",
       "    <tr>\n",
       "      <th>2</th>\n",
       "      <td>862a21b8f03df807b8e5e0a4f34ae86d</td>\n",
       "      <td>1</td>\n",
       "    </tr>\n",
       "    <tr>\n",
       "      <th>3</th>\n",
       "      <td>f662c936f4d9af1bf7c5ff3faaf42a38</td>\n",
       "      <td>1</td>\n",
       "    </tr>\n",
       "    <tr>\n",
       "      <th>4</th>\n",
       "      <td>b2dd5190896b01ced813918773c18b30</td>\n",
       "      <td>1</td>\n",
       "    </tr>\n",
       "  </tbody>\n",
       "</table>\n",
       "</div>"
      ],
      "text/plain": [
       "                               用户标识  新5G终端品牌\n",
       "0  4029657c43fb8daa04b5bd5c55f149bf        3\n",
       "1  644b29afecb6f48a9d630c3195dedff8        3\n",
       "2  862a21b8f03df807b8e5e0a4f34ae86d        1\n",
       "3  f662c936f4d9af1bf7c5ff3faaf42a38        1\n",
       "4  b2dd5190896b01ced813918773c18b30        1"
      ]
     },
     "execution_count": 35,
     "metadata": {},
     "output_type": "execute_result"
    }
   ],
   "source": [
    "result = pd.DataFrame({'用户标识': ID, '新5G终端品牌': predicted_classes})\n",
    "result.head(5)"
   ]
  },
  {
   "cell_type": "code",
   "execution_count": 36,
   "metadata": {},
   "outputs": [
    {
     "name": "stdout",
     "output_type": "stream",
     "text": [
      "1     22116\n",
      "3      2889\n",
      "4      1772\n",
      "5      1516\n",
      "6      1464\n",
      "7       598\n",
      "11      281\n",
      "8       157\n",
      "0       136\n",
      "10       45\n",
      "12        7\n",
      "Name: 新5G终端品牌, dtype: int64\n"
     ]
    }
   ],
   "source": [
    "column_name = '新5G终端品牌'\n",
    "value_counts = result[column_name].value_counts()\n",
    "print(value_counts)"
   ]
  },
  {
   "cell_type": "markdown",
   "metadata": {},
   "source": [
    "# 反向编码"
   ]
  },
  {
   "cell_type": "code",
   "execution_count": 37,
   "metadata": {},
   "outputs": [],
   "source": [
    "def reverse_encoding(df):\n",
    "    # 定义需要反向编码的列\n",
    "    columns_to_reverse = [\n",
    "        '新5G终端品牌'\n",
    "    ]\n",
    "\n",
    "    # 定义整数和对应类别的字典\n",
    "    reversed_mapping = {\n",
    "        1: '华为',\n",
    "        2: '苹果',\n",
    "        3: 'vivo',\n",
    "        4: 'OPPO',\n",
    "        5: '荣耀',\n",
    "        6: '小米',\n",
    "        7: '三星',\n",
    "        8: '魅族',\n",
    "        9: '金立',\n",
    "        10: '中兴',\n",
    "        11: '一加',\n",
    "        12: '中国移动',\n",
    "        0: '其他'\n",
    "    }\n",
    "\n",
    "    # 循环处理每一列并进行反向编码\n",
    "    for column in columns_to_reverse:\n",
    "        if column in df.columns:\n",
    "            df[column] = df[column].replace(reversed_mapping)\n",
    "    return df\n",
    "result = reverse_encoding(result)\n"
   ]
  },
  {
   "cell_type": "code",
   "execution_count": 38,
   "metadata": {},
   "outputs": [
    {
     "data": {
      "text/html": [
       "<div>\n",
       "<style scoped>\n",
       "    .dataframe tbody tr th:only-of-type {\n",
       "        vertical-align: middle;\n",
       "    }\n",
       "\n",
       "    .dataframe tbody tr th {\n",
       "        vertical-align: top;\n",
       "    }\n",
       "\n",
       "    .dataframe thead th {\n",
       "        text-align: right;\n",
       "    }\n",
       "</style>\n",
       "<table border=\"1\" class=\"dataframe\">\n",
       "  <thead>\n",
       "    <tr style=\"text-align: right;\">\n",
       "      <th></th>\n",
       "      <th>用户标识</th>\n",
       "      <th>新5G终端品牌</th>\n",
       "    </tr>\n",
       "  </thead>\n",
       "  <tbody>\n",
       "    <tr>\n",
       "      <th>0</th>\n",
       "      <td>4029657c43fb8daa04b5bd5c55f149bf</td>\n",
       "      <td>vivo</td>\n",
       "    </tr>\n",
       "    <tr>\n",
       "      <th>1</th>\n",
       "      <td>644b29afecb6f48a9d630c3195dedff8</td>\n",
       "      <td>vivo</td>\n",
       "    </tr>\n",
       "    <tr>\n",
       "      <th>2</th>\n",
       "      <td>862a21b8f03df807b8e5e0a4f34ae86d</td>\n",
       "      <td>华为</td>\n",
       "    </tr>\n",
       "    <tr>\n",
       "      <th>3</th>\n",
       "      <td>f662c936f4d9af1bf7c5ff3faaf42a38</td>\n",
       "      <td>华为</td>\n",
       "    </tr>\n",
       "    <tr>\n",
       "      <th>4</th>\n",
       "      <td>b2dd5190896b01ced813918773c18b30</td>\n",
       "      <td>华为</td>\n",
       "    </tr>\n",
       "  </tbody>\n",
       "</table>\n",
       "</div>"
      ],
      "text/plain": [
       "                               用户标识 新5G终端品牌\n",
       "0  4029657c43fb8daa04b5bd5c55f149bf    vivo\n",
       "1  644b29afecb6f48a9d630c3195dedff8    vivo\n",
       "2  862a21b8f03df807b8e5e0a4f34ae86d      华为\n",
       "3  f662c936f4d9af1bf7c5ff3faaf42a38      华为\n",
       "4  b2dd5190896b01ced813918773c18b30      华为"
      ]
     },
     "execution_count": 38,
     "metadata": {},
     "output_type": "execute_result"
    }
   ],
   "source": [
    "result.head(5)"
   ]
  },
  {
   "cell_type": "markdown",
   "metadata": {},
   "source": [
    "# 保存"
   ]
  },
  {
   "cell_type": "code",
   "execution_count": 39,
   "metadata": {},
   "outputs": [],
   "source": [
    "result.to_csv('./Submit.csv',index=False)"
   ]
  },
  {
   "cell_type": "code",
   "execution_count": null,
   "metadata": {},
   "outputs": [],
   "source": []
  },
  {
   "cell_type": "code",
   "execution_count": null,
   "metadata": {},
   "outputs": [],
   "source": []
  },
  {
   "cell_type": "code",
   "execution_count": null,
   "metadata": {},
   "outputs": [],
   "source": []
  },
  {
   "cell_type": "code",
   "execution_count": 42,
   "metadata": {},
   "outputs": [
    {
     "name": "stdout",
     "output_type": "stream",
     "text": [
      "\n",
      "〔 版本状态 〕 v0.14 \n",
      "〔 校验权限 〕 有效 \n",
      "〔 竞赛信息 〕 第三届中国移动“梧桐杯”数据应用赛道 \n",
      "〔 用户信息 〕 18939006986 \n",
      "〔 提交备注 〕  \n",
      "〔 文件分段 〕 [1]段 \n",
      "〔 上传进度 〕 [##################################################]100%        1/1\n",
      "〔 资源标识 〕 0000018AB1B1915E804F2BC8EBD8A841 \n",
      "〔 提交状态 〕 失败(初赛评审材料提交时间还没开始,暂不可提交)  \n",
      "\n"
     ]
    }
   ],
   "source": [
    "!castlecli --third honghu --token 752a086cdf4e3be334473f63c7318c8b --source Submit.csv"
   ]
  },
  {
   "cell_type": "code",
   "execution_count": null,
   "metadata": {},
   "outputs": [],
   "source": []
  },
  {
   "cell_type": "code",
   "execution_count": null,
   "metadata": {},
   "outputs": [],
   "source": []
  },
  {
   "cell_type": "code",
   "execution_count": null,
   "metadata": {},
   "outputs": [],
   "source": []
  },
  {
   "cell_type": "code",
   "execution_count": null,
   "metadata": {},
   "outputs": [],
   "source": []
  }
 ],
 "metadata": {
  "kernelspec": {
   "display_name": "Python 3 (ipykernel)",
   "language": "python",
   "name": "python3"
  },
  "language_info": {
   "codemirror_mode": {
    "name": "ipython",
    "version": 3
   },
   "file_extension": ".py",
   "mimetype": "text/x-python",
   "name": "python",
   "nbconvert_exporter": "python",
   "pygments_lexer": "ipython3",
   "version": "3.7.5"
  }
 },
 "nbformat": 4,
 "nbformat_minor": 4
}
