import pandas as pd


df = pd.read_csv("./toUser_train_data-Copy1.csv",index_col=False)
df.pop('用户标识')
df.head()
