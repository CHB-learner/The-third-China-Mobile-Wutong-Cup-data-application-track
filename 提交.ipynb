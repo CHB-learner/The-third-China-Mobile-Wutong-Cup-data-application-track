{
 "cells": [
  {
   "cell_type": "code",
   "execution_count": 1,
   "metadata": {},
   "outputs": [],
   "source": [
    "import pandas as pd\n"
   ]
  },
  {
   "cell_type": "code",
   "execution_count": 2,
   "metadata": {},
   "outputs": [
    {
     "name": "stdout",
     "output_type": "stream",
     "text": [
      "30981\n"
     ]
    },
    {
     "data": {
      "text/html": [
       "<div>\n",
       "<style scoped>\n",
       "    .dataframe tbody tr th:only-of-type {\n",
       "        vertical-align: middle;\n",
       "    }\n",
       "\n",
       "    .dataframe tbody tr th {\n",
       "        vertical-align: top;\n",
       "    }\n",
       "\n",
       "    .dataframe thead th {\n",
       "        text-align: right;\n",
       "    }\n",
       "</style>\n",
       "<table border=\"1\" class=\"dataframe\">\n",
       "  <thead>\n",
       "    <tr style=\"text-align: right;\">\n",
       "      <th></th>\n",
       "      <th>用户标识</th>\n",
       "      <th>新5G终端品牌</th>\n",
       "    </tr>\n",
       "  </thead>\n",
       "  <tbody>\n",
       "    <tr>\n",
       "      <th>0</th>\n",
       "      <td>0117294038b62d7b37eeb0b73d846e15</td>\n",
       "      <td>华为</td>\n",
       "    </tr>\n",
       "    <tr>\n",
       "      <th>1</th>\n",
       "      <td>a4f4ccea9300fe3dba799fc0248e77af</td>\n",
       "      <td>华为</td>\n",
       "    </tr>\n",
       "    <tr>\n",
       "      <th>2</th>\n",
       "      <td>552badfed1e9c71068941a9e991a1fb0</td>\n",
       "      <td>华为</td>\n",
       "    </tr>\n",
       "    <tr>\n",
       "      <th>3</th>\n",
       "      <td>d236680c53cf82b9c0af9e8db74c9963</td>\n",
       "      <td>vivo</td>\n",
       "    </tr>\n",
       "    <tr>\n",
       "      <th>4</th>\n",
       "      <td>6a67ad49461a5940715c8257a5902b79</td>\n",
       "      <td>华为</td>\n",
       "    </tr>\n",
       "  </tbody>\n",
       "</table>\n",
       "</div>"
      ],
      "text/plain": [
       "                               用户标识 新5G终端品牌\n",
       "0  0117294038b62d7b37eeb0b73d846e15      华为\n",
       "1  a4f4ccea9300fe3dba799fc0248e77af      华为\n",
       "2  552badfed1e9c71068941a9e991a1fb0      华为\n",
       "3  d236680c53cf82b9c0af9e8db74c9963    vivo\n",
       "4  6a67ad49461a5940715c8257a5902b79      华为"
      ]
     },
     "execution_count": 2,
     "metadata": {},
     "output_type": "execute_result"
    }
   ],
   "source": [
    "df = pd.read_csv(\"./Submit.csv\")\n",
    "print(len(df))\n",
    "df.head()"
   ]
  },
  {
   "cell_type": "code",
   "execution_count": null,
   "metadata": {},
   "outputs": [],
   "source": []
  },
  {
   "cell_type": "code",
   "execution_count": 3,
   "metadata": {},
   "outputs": [
    {
     "name": "stdout",
     "output_type": "stream",
     "text": [
      "\n",
      "〔 版本状态 〕 v0.14 \n",
      "〔 校验权限 〕 有效 \n",
      "〔 竞赛信息 〕 第三届中国移动“梧桐杯”数据应用赛道 \n",
      "〔 用户信息 〕 18939006986 \n",
      "〔 提交备注 〕  \n",
      "〔 文件分段 〕 [1]段 \n",
      "〔 上传进度 〕 [##################################################]100%        1/1\n",
      "〔 资源标识 〕 0000018A0D5C895884D0D50BAE6948A5 \n",
      "〔 提交状态 〕 成功 \n",
      "\n"
     ]
    }
   ],
   "source": [
    "!castlecli --third honghu --token ab6f04a757af594f885226170c94bd0f --source Submit.csv"
   ]
  },
  {
   "cell_type": "code",
   "execution_count": null,
   "metadata": {},
   "outputs": [],
   "source": []
  },
  {
   "cell_type": "code",
   "execution_count": null,
   "metadata": {},
   "outputs": [],
   "source": []
  },
  {
   "cell_type": "code",
   "execution_count": null,
   "metadata": {},
   "outputs": [],
   "source": []
  },
  {
   "cell_type": "code",
   "execution_count": null,
   "metadata": {},
   "outputs": [],
   "source": []
  },
  {
   "cell_type": "code",
   "execution_count": null,
   "metadata": {},
   "outputs": [],
   "source": []
  },
  {
   "cell_type": "markdown",
   "metadata": {},
   "source": [
    "\n",
    "# 提交记录\n",
    "版本三  59名 0.5693\n",
    "_____\n",
    "60名 0.5693\n",
    "_____\n",
    "53名 0.5823\n"
   ]
  }
 ],
 "metadata": {
  "kernelspec": {
   "display_name": "Python 3 (ipykernel)",
   "language": "python",
   "name": "python3"
  },
  "language_info": {
   "codemirror_mode": {
    "name": "ipython",
    "version": 3
   },
   "file_extension": ".py",
   "mimetype": "text/x-python",
   "name": "python",
   "nbconvert_exporter": "python",
   "pygments_lexer": "ipython3",
   "version": "3.7.5"
  }
 },
 "nbformat": 4,
 "nbformat_minor": 4
}
